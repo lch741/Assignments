{
  "cells": [
    {
      "cell_type": "markdown",
      "metadata": {
        "id": "view-in-github",
        "colab_type": "text"
      },
      "source": [
        "<a href=\"https://colab.research.google.com/github/lch741/Assignments/blob/main/Jupyter_Notebook.ipynb\" target=\"_parent\"><img src=\"https://colab.research.google.com/assets/colab-badge.svg\" alt=\"Open In Colab\"/></a>"
      ]
    },
    {
      "cell_type": "markdown",
      "metadata": {
        "id": "4MMoqfkTvwKT"
      },
      "source": [
        "<center>\n",
        "    <img src=\"https://cf-courses-data.s3.us.cloud-object-storage.appdomain.cloud/IBMDeveloperSkillsNetwork-DS0105EN-SkillsNetwork/labs/Module2/images/SN_web_lightmode.png\" width=\"300\" alt=\"cognitiveclass.ai logo\"  />\n",
        "</center>\n"
      ]
    },
    {
      "cell_type": "markdown",
      "metadata": {
        "id": "u4SD5ODuvwKW"
      },
      "source": [
        "#### Add your code below following the instructions given in the course\n"
      ]
    },
    {
      "cell_type": "markdown",
      "source": [
        "# My Jupyter Notebook on IBM Watson Studio"
      ],
      "metadata": {
        "id": "BTNnGZnTxL-R"
      }
    },
    {
      "cell_type": "markdown",
      "source": [
        "**Chenghong Li**\n",
        "\n",
        "Data Analyst"
      ],
      "metadata": {
        "id": "3cRp438wxn2I"
      }
    },
    {
      "cell_type": "markdown",
      "source": [
        "*I am interested in data science because I like to use data to solve real world problems.*"
      ],
      "metadata": {
        "id": "ZtEm2e8nx1Da"
      }
    },
    {
      "cell_type": "markdown",
      "source": [
        "### My code will print out the result of the calculation to the 5th power of 2"
      ],
      "metadata": {
        "id": "11vBLyzCyiDl"
      }
    },
    {
      "cell_type": "code",
      "source": [
        "print(2**5)"
      ],
      "metadata": {
        "colab": {
          "base_uri": "https://localhost:8080/"
        },
        "id": "xMcNeOzPygb6",
        "outputId": "67330ba1-41a8-4199-c844-ff2afa342777"
      },
      "execution_count": 10,
      "outputs": [
        {
          "output_type": "stream",
          "name": "stdout",
          "text": [
            "32\n"
          ]
        }
      ]
    },
    {
      "cell_type": "markdown",
      "source": [
        "![WeChat Screenshot_20221227192536.png](data:image/png;base64,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)\n",
        "\n",
        "---\n",
        "[COURSERA](https://www.coursera.org)\n"
      ],
      "metadata": {
        "id": "TDveqN8d1SAn"
      }
    }
  ],
  "metadata": {
    "kernelspec": {
      "display_name": "Python 3",
      "language": "python",
      "name": "python3"
    },
    "language_info": {
      "codemirror_mode": {
        "name": "ipython",
        "version": 3
      },
      "file_extension": ".py",
      "mimetype": "text/x-python",
      "name": "python",
      "nbconvert_exporter": "python",
      "pygments_lexer": "ipython3",
      "version": "3.7.6"
    },
    "colab": {
      "provenance": [],
      "include_colab_link": true
    }
  },
  "nbformat": 4,
  "nbformat_minor": 0
}